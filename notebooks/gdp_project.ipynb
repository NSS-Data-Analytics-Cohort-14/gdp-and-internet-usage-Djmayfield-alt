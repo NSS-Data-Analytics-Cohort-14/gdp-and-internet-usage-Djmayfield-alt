{
 "cells": [
  {
   "cell_type": "markdown",
   "id": "804ac698-1c61-4830-975d-38d417013034",
   "metadata": {},
   "source": [
    "## This is a example of how you will be doing projects in python.\n",
    "### Use markdown cells -OR- comments in cells to place AT LEAST the question number you are working on. "
   ]
  },
  {
   "cell_type": "markdown",
   "id": "90123210-b670-4d62-bbda-010eeac5dba5",
   "metadata": {},
   "source": [
    "3.\tImport the required packages"
   ]
  },
  {
   "cell_type": "code",
   "execution_count": 3,
   "id": "297b1e92-5e76-4e59-8085-d1ac23ff1c4f",
   "metadata": {},
   "outputs": [],
   "source": [
    "import pandas as pd\n",
    "import numpy as np\n",
    "import matplotlib.pyplot as plt\n",
    "import seaborn as sns"
   ]
  },
  {
   "cell_type": "markdown",
   "id": "3f81942c-9dbe-43e8-90fa-ba3e6be8389a",
   "metadata": {},
   "source": [
    "4. Using the pandas `read_csv()` method, read the GDP dataset into your notebook as a DataFrame called `gdp_df`. Take a look at the first few and last few rows to familiarize yourself with what is contained in this dataset."
   ]
  },
  {
   "cell_type": "code",
   "execution_count": 5,
   "id": "9258fe6d-6afa-462f-8197-c484f97cf4c7",
   "metadata": {},
   "outputs": [],
   "source": [
    "gdp_df = pd.read_csv('../data/gdp_percapita.csv')"
   ]
  },
  {
   "cell_type": "code",
   "execution_count": 6,
   "id": "8f275f97-41b5-43d1-8b84-e91213bb6f62",
   "metadata": {},
   "outputs": [
    {
     "data": {
      "text/html": [
       "<div>\n",
       "<style scoped>\n",
       "    .dataframe tbody tr th:only-of-type {\n",
       "        vertical-align: middle;\n",
       "    }\n",
       "\n",
       "    .dataframe tbody tr th {\n",
       "        vertical-align: top;\n",
       "    }\n",
       "\n",
       "    .dataframe thead th {\n",
       "        text-align: right;\n",
       "    }\n",
       "</style>\n",
       "<table border=\"1\" class=\"dataframe\">\n",
       "  <thead>\n",
       "    <tr style=\"text-align: right;\">\n",
       "      <th></th>\n",
       "      <th>Country or Area</th>\n",
       "      <th>Year</th>\n",
       "      <th>Value</th>\n",
       "      <th>Value Footnotes</th>\n",
       "    </tr>\n",
       "  </thead>\n",
       "  <tbody>\n",
       "    <tr>\n",
       "      <th>0</th>\n",
       "      <td>Afghanistan</td>\n",
       "      <td>2023</td>\n",
       "      <td>1992.424394</td>\n",
       "      <td>NaN</td>\n",
       "    </tr>\n",
       "    <tr>\n",
       "      <th>1</th>\n",
       "      <td>Afghanistan</td>\n",
       "      <td>2022</td>\n",
       "      <td>1981.710168</td>\n",
       "      <td>NaN</td>\n",
       "    </tr>\n",
       "    <tr>\n",
       "      <th>2</th>\n",
       "      <td>Afghanistan</td>\n",
       "      <td>2021</td>\n",
       "      <td>2144.166570</td>\n",
       "      <td>NaN</td>\n",
       "    </tr>\n",
       "    <tr>\n",
       "      <th>3</th>\n",
       "      <td>Afghanistan</td>\n",
       "      <td>2020</td>\n",
       "      <td>2769.685745</td>\n",
       "      <td>NaN</td>\n",
       "    </tr>\n",
       "    <tr>\n",
       "      <th>4</th>\n",
       "      <td>Afghanistan</td>\n",
       "      <td>2019</td>\n",
       "      <td>2927.245144</td>\n",
       "      <td>NaN</td>\n",
       "    </tr>\n",
       "  </tbody>\n",
       "</table>\n",
       "</div>"
      ],
      "text/plain": [
       "  Country or Area  Year        Value  Value Footnotes\n",
       "0     Afghanistan  2023  1992.424394              NaN\n",
       "1     Afghanistan  2022  1981.710168              NaN\n",
       "2     Afghanistan  2021  2144.166570              NaN\n",
       "3     Afghanistan  2020  2769.685745              NaN\n",
       "4     Afghanistan  2019  2927.245144              NaN"
      ]
     },
     "execution_count": 6,
     "metadata": {},
     "output_type": "execute_result"
    }
   ],
   "source": [
    "gdp_df.head()"
   ]
  },
  {
   "cell_type": "code",
   "execution_count": 7,
   "id": "fd02ae31-2e4d-48c2-b019-2ccea40f4b1b",
   "metadata": {},
   "outputs": [
    {
     "name": "stdout",
     "output_type": "stream",
     "text": [
      "<class 'pandas.core.frame.DataFrame'>\n",
      "RangeIndex: 8219 entries, 0 to 8218\n",
      "Data columns (total 4 columns):\n",
      " #   Column           Non-Null Count  Dtype  \n",
      "---  ------           --------------  -----  \n",
      " 0   Country or Area  8219 non-null   object \n",
      " 1   Year             8219 non-null   int64  \n",
      " 2   Value            8219 non-null   float64\n",
      " 3   Value Footnotes  0 non-null      float64\n",
      "dtypes: float64(2), int64(1), object(1)\n",
      "memory usage: 257.0+ KB\n"
     ]
    }
   ],
   "source": [
    "gdp_df.info()"
   ]
  },
  {
   "cell_type": "markdown",
   "id": "728cd96e-d530-4ddc-a298-b1218d1cdc93",
   "metadata": {},
   "source": [
    "5. How many rows and columns are in `gdp_df`? What are the data types of each column?"
   ]
  },
  {
   "cell_type": "code",
   "execution_count": 9,
   "id": "f14fe0c6-bc1a-4f2b-a736-ffacdfffbe05",
   "metadata": {},
   "outputs": [],
   "source": [
    "## 8219 Rows and 4 columns"
   ]
  },
  {
   "cell_type": "markdown",
   "id": "6cc07c62-1a58-4460-affa-0635d5c2190e",
   "metadata": {},
   "source": [
    "6. Drop the `Value Footnotes` column and rename the remaining three to 'Country', 'Year', and 'GDP_Per_Capita'."
   ]
  },
  {
   "cell_type": "code",
   "execution_count": 11,
   "id": "92534803-32f6-44b0-a308-51aba463cdeb",
   "metadata": {},
   "outputs": [],
   "source": [
    "gdp_df.drop('Value Footnotes',axis=1, inplace=True)"
   ]
  },
  {
   "cell_type": "code",
   "execution_count": 12,
   "id": "8a6875f8-91ba-416f-aecb-d6fe123c9636",
   "metadata": {},
   "outputs": [],
   "source": [
    "gdp_df=gdp_df.rename(columns={'Country or Area': 'Country', 'Year': 'Year', 'Value': 'GDP_Per_Capita'})"
   ]
  },
  {
   "cell_type": "markdown",
   "id": "4e29d4f8-009b-4c22-bf90-993036e63238",
   "metadata": {},
   "source": [
    "7. How many countries have data for all years? Which countries are missing many years of data? Look at the number of observations per year. What do you notice? "
   ]
  },
  {
   "cell_type": "code",
   "execution_count": 14,
   "id": "24aaa6b8-d24e-47f2-917f-508b9eab63cb",
   "metadata": {},
   "outputs": [
    {
     "name": "stdout",
     "output_type": "stream",
     "text": [
      "Country\n",
      "Afghanistan                    24\n",
      "Africa Eastern and Southern    34\n",
      "Africa Western and Central     34\n",
      "Albania                        34\n",
      "Algeria                        34\n",
      "                               ..\n",
      "Virgin Islands                 21\n",
      "West Bank and Gaza             30\n",
      "World                          34\n",
      "Zambia                         34\n",
      "Zimbabwe                       34\n",
      "Name: Year, Length: 247, dtype: int64\n"
     ]
    }
   ],
   "source": [
    "grouped_count=gdp_df.groupby('Country')['Year'].count()\n",
    "print(grouped_count)"
   ]
  },
  {
   "cell_type": "code",
   "execution_count": 15,
   "id": "b60aa30c-68c4-4371-b6d2-5011e8a493e8",
   "metadata": {},
   "outputs": [],
   "source": [
    " yearcounts = gdp_df.groupby(['Country'])['Year'].count()\n",
    "yearcounts = yearcounts.reset_index()"
   ]
  },
  {
   "cell_type": "code",
   "execution_count": 16,
   "id": "bb0e3101-26e7-4d44-9179-785b27b239ce",
   "metadata": {},
   "outputs": [
    {
     "data": {
      "text/html": [
       "<div>\n",
       "<style scoped>\n",
       "    .dataframe tbody tr th:only-of-type {\n",
       "        vertical-align: middle;\n",
       "    }\n",
       "\n",
       "    .dataframe tbody tr th {\n",
       "        vertical-align: top;\n",
       "    }\n",
       "\n",
       "    .dataframe thead th {\n",
       "        text-align: right;\n",
       "    }\n",
       "</style>\n",
       "<table border=\"1\" class=\"dataframe\">\n",
       "  <thead>\n",
       "    <tr style=\"text-align: right;\">\n",
       "      <th></th>\n",
       "      <th>Country</th>\n",
       "      <th>Year</th>\n",
       "    </tr>\n",
       "  </thead>\n",
       "  <tbody>\n",
       "    <tr>\n",
       "      <th>1</th>\n",
       "      <td>Africa Eastern and Southern</td>\n",
       "      <td>34</td>\n",
       "    </tr>\n",
       "    <tr>\n",
       "      <th>2</th>\n",
       "      <td>Africa Western and Central</td>\n",
       "      <td>34</td>\n",
       "    </tr>\n",
       "    <tr>\n",
       "      <th>3</th>\n",
       "      <td>Albania</td>\n",
       "      <td>34</td>\n",
       "    </tr>\n",
       "    <tr>\n",
       "      <th>4</th>\n",
       "      <td>Algeria</td>\n",
       "      <td>34</td>\n",
       "    </tr>\n",
       "    <tr>\n",
       "      <th>5</th>\n",
       "      <td>Andorra</td>\n",
       "      <td>34</td>\n",
       "    </tr>\n",
       "    <tr>\n",
       "      <th>...</th>\n",
       "      <td>...</td>\n",
       "      <td>...</td>\n",
       "    </tr>\n",
       "    <tr>\n",
       "      <th>240</th>\n",
       "      <td>Vanuatu</td>\n",
       "      <td>34</td>\n",
       "    </tr>\n",
       "    <tr>\n",
       "      <th>241</th>\n",
       "      <td>Viet Nam</td>\n",
       "      <td>34</td>\n",
       "    </tr>\n",
       "    <tr>\n",
       "      <th>244</th>\n",
       "      <td>World</td>\n",
       "      <td>34</td>\n",
       "    </tr>\n",
       "    <tr>\n",
       "      <th>245</th>\n",
       "      <td>Zambia</td>\n",
       "      <td>34</td>\n",
       "    </tr>\n",
       "    <tr>\n",
       "      <th>246</th>\n",
       "      <td>Zimbabwe</td>\n",
       "      <td>34</td>\n",
       "    </tr>\n",
       "  </tbody>\n",
       "</table>\n",
       "<p>228 rows × 2 columns</p>\n",
       "</div>"
      ],
      "text/plain": [
       "                         Country  Year\n",
       "1    Africa Eastern and Southern    34\n",
       "2     Africa Western and Central    34\n",
       "3                        Albania    34\n",
       "4                        Algeria    34\n",
       "5                        Andorra    34\n",
       "..                           ...   ...\n",
       "240                      Vanuatu    34\n",
       "241                     Viet Nam    34\n",
       "244                        World    34\n",
       "245                       Zambia    34\n",
       "246                     Zimbabwe    34\n",
       "\n",
       "[228 rows x 2 columns]"
      ]
     },
     "execution_count": 16,
     "metadata": {},
     "output_type": "execute_result"
    }
   ],
   "source": [
    "yearcounts[(yearcounts.Year > 33)]"
   ]
  },
  {
   "cell_type": "code",
   "execution_count": 17,
   "id": "f5d3fcd9-97e8-47c3-98d9-329fe0f35513",
   "metadata": {},
   "outputs": [],
   "source": [
    "## 7a = 228 Countries have full years"
   ]
  },
  {
   "cell_type": "code",
   "execution_count": 18,
   "id": "c0895889-e26d-45da-abbf-4365e66908f6",
   "metadata": {},
   "outputs": [
    {
     "data": {
      "text/html": [
       "<div>\n",
       "<style scoped>\n",
       "    .dataframe tbody tr th:only-of-type {\n",
       "        vertical-align: middle;\n",
       "    }\n",
       "\n",
       "    .dataframe tbody tr th {\n",
       "        vertical-align: top;\n",
       "    }\n",
       "\n",
       "    .dataframe thead th {\n",
       "        text-align: right;\n",
       "    }\n",
       "</style>\n",
       "<table border=\"1\" class=\"dataframe\">\n",
       "  <thead>\n",
       "    <tr style=\"text-align: right;\">\n",
       "      <th></th>\n",
       "      <th>Country</th>\n",
       "      <th>Year</th>\n",
       "    </tr>\n",
       "  </thead>\n",
       "  <tbody>\n",
       "    <tr>\n",
       "      <th>0</th>\n",
       "      <td>Afghanistan</td>\n",
       "      <td>24</td>\n",
       "    </tr>\n",
       "    <tr>\n",
       "      <th>23</th>\n",
       "      <td>Bhutan</td>\n",
       "      <td>33</td>\n",
       "    </tr>\n",
       "    <tr>\n",
       "      <th>37</th>\n",
       "      <td>Cayman Islands</td>\n",
       "      <td>18</td>\n",
       "    </tr>\n",
       "    <tr>\n",
       "      <th>48</th>\n",
       "      <td>CuraÃ§ao</td>\n",
       "      <td>24</td>\n",
       "    </tr>\n",
       "    <tr>\n",
       "      <th>54</th>\n",
       "      <td>Djibouti</td>\n",
       "      <td>11</td>\n",
       "    </tr>\n",
       "    <tr>\n",
       "      <th>73</th>\n",
       "      <td>Faroe Islands</td>\n",
       "      <td>16</td>\n",
       "    </tr>\n",
       "    <tr>\n",
       "      <th>83</th>\n",
       "      <td>Greenland</td>\n",
       "      <td>32</td>\n",
       "    </tr>\n",
       "    <tr>\n",
       "      <th>115</th>\n",
       "      <td>Kosovo</td>\n",
       "      <td>16</td>\n",
       "    </tr>\n",
       "    <tr>\n",
       "      <th>125</th>\n",
       "      <td>Lebanon</td>\n",
       "      <td>33</td>\n",
       "    </tr>\n",
       "    <tr>\n",
       "      <th>152</th>\n",
       "      <td>Montenegro</td>\n",
       "      <td>27</td>\n",
       "    </tr>\n",
       "    <tr>\n",
       "      <th>188</th>\n",
       "      <td>San Marino</td>\n",
       "      <td>26</td>\n",
       "    </tr>\n",
       "    <tr>\n",
       "      <th>191</th>\n",
       "      <td>Serbia</td>\n",
       "      <td>29</td>\n",
       "    </tr>\n",
       "    <tr>\n",
       "      <th>195</th>\n",
       "      <td>Sint Maarten (Dutch part)</td>\n",
       "      <td>15</td>\n",
       "    </tr>\n",
       "    <tr>\n",
       "      <th>200</th>\n",
       "      <td>Somalia</td>\n",
       "      <td>33</td>\n",
       "    </tr>\n",
       "    <tr>\n",
       "      <th>216</th>\n",
       "      <td>Syrian Arab Republic</td>\n",
       "      <td>33</td>\n",
       "    </tr>\n",
       "    <tr>\n",
       "      <th>225</th>\n",
       "      <td>Tonga</td>\n",
       "      <td>33</td>\n",
       "    </tr>\n",
       "    <tr>\n",
       "      <th>229</th>\n",
       "      <td>Turks and Caicos Islands</td>\n",
       "      <td>13</td>\n",
       "    </tr>\n",
       "    <tr>\n",
       "      <th>242</th>\n",
       "      <td>Virgin Islands</td>\n",
       "      <td>21</td>\n",
       "    </tr>\n",
       "    <tr>\n",
       "      <th>243</th>\n",
       "      <td>West Bank and Gaza</td>\n",
       "      <td>30</td>\n",
       "    </tr>\n",
       "  </tbody>\n",
       "</table>\n",
       "</div>"
      ],
      "text/plain": [
       "                       Country  Year\n",
       "0                  Afghanistan    24\n",
       "23                      Bhutan    33\n",
       "37              Cayman Islands    18\n",
       "48                    CuraÃ§ao    24\n",
       "54                    Djibouti    11\n",
       "73               Faroe Islands    16\n",
       "83                   Greenland    32\n",
       "115                     Kosovo    16\n",
       "125                    Lebanon    33\n",
       "152                 Montenegro    27\n",
       "188                 San Marino    26\n",
       "191                     Serbia    29\n",
       "195  Sint Maarten (Dutch part)    15\n",
       "200                    Somalia    33\n",
       "216       Syrian Arab Republic    33\n",
       "225                      Tonga    33\n",
       "229   Turks and Caicos Islands    13\n",
       "242             Virgin Islands    21\n",
       "243         West Bank and Gaza    30"
      ]
     },
     "execution_count": 18,
     "metadata": {},
     "output_type": "execute_result"
    }
   ],
   "source": [
    "yearcounts[(yearcounts.Year <= 33)]"
   ]
  },
  {
   "cell_type": "code",
   "execution_count": 19,
   "id": "9d0145da-12c8-4d94-9007-ea0f438252a1",
   "metadata": {},
   "outputs": [],
   "source": [
    "## 7b Cayman Islands, Djibuti , Snt Maarten (Dutch Part), Turks and Caicos Islands"
   ]
  },
  {
   "cell_type": "code",
   "execution_count": 20,
   "id": "1d255346-91de-47a6-8edd-3db657d70bab",
   "metadata": {},
   "outputs": [],
   "source": [
    "## 7c The countries that are missing years are newer?"
   ]
  },
  {
   "cell_type": "markdown",
   "id": "1e887949-9348-418f-97a4-7d58778a8218",
   "metadata": {},
   "source": [
    "8. In this question, you're going to create some plots to show the distribution of GDP per capita for the year 2020. Go to the Python Graph Gallery (https://www.python-graph-gallery.com/) and look at the different types of plots under the Distribution section. Create a histogram, a density plot, a boxplot, and a violin plot. What do you notice when you look at these plots? How do the plots compare and what information can you get out of one type that you can't necessarily get out of the others?"
   ]
  },
  {
   "cell_type": "code",
   "execution_count": 22,
   "id": "5cf4c5d8-73d1-48f1-8706-bccd3605ad55",
   "metadata": {},
   "outputs": [
    {
     "data": {
      "text/plain": [
       "<seaborn.axisgrid.FacetGrid at 0x1402669c0>"
      ]
     },
     "execution_count": 22,
     "metadata": {},
     "output_type": "execute_result"
    },
    {
     "data": {
      "image/png": "[encoded data removed]",
      "text/plain": [
       "<Figure size 500x500 with 1 Axes>"
      ]
     },
     "metadata": {},
     "output_type": "display_data"
    }
   ],
   "source": [
    "sns.displot(data=gdp_df,x='GDP_Per_Capita')"
   ]
  },
  {
   "cell_type": "code",
   "execution_count": 23,
   "id": "b3d57f72-62fa-497a-8370-fc8f9d09f45e",
   "metadata": {},
   "outputs": [
    {
     "data": {
      "text/plain": [
       "<Axes: xlabel='GDP_Per_Capita', ylabel='Density'>"
      ]
     },
     "execution_count": 23,
     "metadata": {},
     "output_type": "execute_result"
    },
    {
     "data": {
      "image/png": "[encoded data removed]",
      "text/plain": [
       "<Figure size 640x480 with 1 Axes>"
      ]
     },
     "metadata": {},
     "output_type": "display_data"
    }
   ],
   "source": [
    "sns.kdeplot(gdp_df['GDP_Per_Capita'])"
   ]
  },
  {
   "cell_type": "code",
   "execution_count": 24,
   "id": "62bf01f8-40a1-4701-95a4-57dcfa69d028",
   "metadata": {},
   "outputs": [
    {
     "data": {
      "image/png": "[encoded data removed]",
      "text/plain": [
       "<Figure size 640x480 with 1 Axes>"
      ]
     },
     "metadata": {},
     "output_type": "display_data"
    }
   ],
   "source": [
    "sns.set_theme(style=\"darkgrid\")\n",
    "sns.boxplot(y=gdp_df[\"GDP_Per_Capita\"])\n",
    "plt.show()"
   ]
  },
  {
   "cell_type": "code",
   "execution_count": 25,
   "id": "c42985a4-8c8a-4cba-88c5-4885733c0cae",
   "metadata": {},
   "outputs": [
    {
     "data": {
      "image/png": "[encoded data removed]",
      "text/plain": [
       "<Figure size 640x480 with 1 Axes>"
      ]
     },
     "metadata": {},
     "output_type": "display_data"
    }
   ],
   "source": [
    "sns.violinplot(y=gdp_df[\"GDP_Per_Capita\"])\n",
    "plt.show()"
   ]
  },
  {
   "cell_type": "markdown",
   "id": "617ef5d2-e7f9-49fe-a87b-ea1b4e9ebb30",
   "metadata": {},
   "source": [
    "9. What was the median GDP per capita value in 2020?"
   ]
  },
  {
   "cell_type": "code",
   "execution_count": 27,
   "id": "d549154f-769a-48ef-a949-975db61ec97e",
   "metadata": {},
   "outputs": [
    {
     "name": "stdout",
     "output_type": "stream",
     "text": [
      "15309.23598817024\n"
     ]
    }
   ],
   "source": [
    "median_gdp_2020 = gdp_df[gdp_df['Year'] == 2020]['GDP_Per_Capita'].median()\n",
    "print(median_gdp_2020)"
   ]
  },
  {
   "cell_type": "code",
   "execution_count": 28,
   "id": "63b6d99e-57f7-41fc-b08c-ab2b3d4db610",
   "metadata": {},
   "outputs": [],
   "source": [
    "# 15309.23598817024"
   ]
  },
  {
   "cell_type": "markdown",
   "id": "7655a47c-9d62-435d-afd0-ee0aece4401f",
   "metadata": {},
   "source": [
    "10. For this question, you're going to create some visualizations to compare GDP per capita values for the years 1990, 2000, 2010, and 2020. Start by subsetting your data to just these 4 years into a new DataFrame named gdp_decades. Using this, create the following 4 plots:\n",
    "\t* A boxplot\n",
    "\t* A barplot (check out the Barplot with Seaborn section: https://www.python-graph-gallery.com/barplot/#Seaborn)\n",
    "\t* A scatterplot\n",
    "\t* A scatterplot with a trend line overlaid (see this regplot example: https://www.python-graph-gallery.com/42-custom-linear-regression-fit-seaborn)  \n",
    "Comment on what you observe has happened to GDP values over time and the relative strengths and weaknesses of each type of plot."
   ]
  },
  {
   "cell_type": "code",
   "execution_count": 30,
   "id": "c8f36d9a-a13a-453b-bdd7-0d959ed96caf",
   "metadata": {},
   "outputs": [
    {
     "name": "stdout",
     "output_type": "stream",
     "text": [
      "                        Country  Year  GDP_Per_Capita\n",
      "3                   Afghanistan  2020     2769.685745\n",
      "13                  Afghanistan  2010     2848.586061\n",
      "23                  Afghanistan  2000     1617.826475\n",
      "27  Africa Eastern and Southern  2020     3861.111238\n",
      "37  Africa Eastern and Southern  2010     3863.836012\n"
     ]
    }
   ],
   "source": [
    "gdp_decades = gdp_df[gdp_df['Year'].isin([1990,2000,2010,2020])]\n",
    "print(gdp_decades.head())"
   ]
  },
  {
   "cell_type": "code",
   "execution_count": 31,
   "id": "775619b4-eb0c-4854-8d68-b91e4d922526",
   "metadata": {},
   "outputs": [
    {
     "data": {
      "text/plain": [
       "<Axes: title={'center': 'GDP_Per_Capita'}, xlabel='Year'>"
      ]
     },
     "execution_count": 31,
     "metadata": {},
     "output_type": "execute_result"
    },
    {
     "data": {
      "image/png": "[encoded data removed]",
      "text/plain": [
       "<Figure size 640x480 with 1 Axes>"
      ]
     },
     "metadata": {},
     "output_type": "display_data"
    }
   ],
   "source": [
    "gdp_decades.boxplot(by='Year', column = ['GDP_Per_Capita'], grid = False)"
   ]
  },
  {
   "cell_type": "code",
   "execution_count": 32,
   "id": "009be534-8188-42cf-aa3f-d27413019645",
   "metadata": {},
   "outputs": [
    {
     "data": {
      "text/plain": [
       "<Axes: xlabel='Year', ylabel='GDP_Per_Capita'>"
      ]
     },
     "execution_count": 32,
     "metadata": {},
     "output_type": "execute_result"
    },
    {
     "data": {
      "image/png": "[encoded data removed]",
      "text/plain": [
       "<Figure size 640x480 with 1 Axes>"
      ]
     },
     "metadata": {},
     "output_type": "display_data"
    }
   ],
   "source": [
    "sns.barplot(\n",
    "    x='Year',\n",
    "    y='GDP_Per_Capita',\n",
    "    data=gdp_decades,\n",
    "    errorbar=None)"
   ]
  },
  {
   "cell_type": "code",
   "execution_count": 33,
   "id": "ad12a32a-8d85-45c3-b7c5-b0a8b364749e",
   "metadata": {},
   "outputs": [
    {
     "data": {
      "image/png": "[encoded data removed]",
      "text/plain": [
       "<Figure size 640x480 with 1 Axes>"
      ]
     },
     "metadata": {},
     "output_type": "display_data"
    }
   ],
   "source": [
    "sns.scatterplot(data=gdp_decades,\n",
    "                x='Year',\n",
    "                y='GDP_Per_Capita')\n",
    "plt.show()"
   ]
  },
  {
   "cell_type": "code",
   "execution_count": 34,
   "id": "3066dab9-7b2f-4c29-9381-9e8a4a9a1897",
   "metadata": {},
   "outputs": [
    {
     "data": {
      "image/png": "[encoded data removed]",
      "text/plain": [
       "<Figure size 640x480 with 1 Axes>"
      ]
     },
     "metadata": {},
     "output_type": "display_data"
    }
   ],
   "source": [
    "sns.regplot(\n",
    "    x=gdp_decades['Year'],\n",
    "    y=gdp_decades['GDP_Per_Capita'],\n",
    "    line_kws={'color':'red','linewidth':1.5}\n",
    ")\n",
    "plt.show()"
   ]
  },
  {
   "cell_type": "code",
   "execution_count": 35,
   "id": "4da2ce6f-6272-4479-83b0-d0f4b78eede3",
   "metadata": {},
   "outputs": [],
   "source": [
    "## GDP has gone up over time"
   ]
  },
  {
   "cell_type": "markdown",
   "id": "ec514a74-f7d9-47d3-90ad-74d560660d50",
   "metadata": {},
   "source": [
    "11. Which country was the first to have a GDP per capita greater than $100,000?"
   ]
  },
  {
   "cell_type": "code",
   "execution_count": 37,
   "id": "8d2ba0c7-f1d3-45b5-baaf-e3afcd6b8767",
   "metadata": {},
   "outputs": [
    {
     "data": {
      "text/plain": [
       "750"
      ]
     },
     "execution_count": 37,
     "metadata": {},
     "output_type": "execute_result"
    }
   ],
   "source": [
    "gdp_df.loc[gdp_df['GDP_Per_Capita']>=100000].index[0]"
   ]
  },
  {
   "cell_type": "code",
   "execution_count": 38,
   "id": "bcc6ab20-4d79-4a20-b7d3-3bdfbab49066",
   "metadata": {},
   "outputs": [
    {
     "data": {
      "text/plain": [
       "Country                 Bermuda\n",
       "Year                       2011\n",
       "GDP_Per_Capita    101174.504104\n",
       "Name: 750, dtype: object"
      ]
     },
     "execution_count": 38,
     "metadata": {},
     "output_type": "execute_result"
    }
   ],
   "source": [
    "gdp_df.loc[750]"
   ]
  },
  {
   "cell_type": "code",
   "execution_count": 39,
   "id": "223a59e0-a2f7-4c9f-83e0-fd8505b74648",
   "metadata": {},
   "outputs": [],
   "source": [
    "## Bermuda, 2011 "
   ]
  },
  {
   "cell_type": "markdown",
   "id": "520dcd5b-8544-4b37-aa3c-8fed96d4d245",
   "metadata": {},
   "source": [
    "12. Which country had the highest GDP per capita in 2020? Create a plot showing how this country's GDP per capita has changed over the timespan of the dataset."
   ]
  },
  {
   "cell_type": "code",
   "execution_count": 41,
   "id": "4c50c6e9-aa75-4809-880a-c8fd53f33a60",
   "metadata": {},
   "outputs": [
    {
     "data": {
      "text/plain": [
       "128256.5603407562"
      ]
     },
     "execution_count": 41,
     "metadata": {},
     "output_type": "execute_result"
    }
   ],
   "source": [
    "gdp_df[gdp_df['Year']==2020]['GDP_Per_Capita'].max()"
   ]
  },
  {
   "cell_type": "code",
   "execution_count": 42,
   "id": "620f2096-1125-4506-9461-f368b9ba4cb5",
   "metadata": {},
   "outputs": [
    {
     "data": {
      "text/html": [
       "<div>\n",
       "<style scoped>\n",
       "    .dataframe tbody tr th:only-of-type {\n",
       "        vertical-align: middle;\n",
       "    }\n",
       "\n",
       "    .dataframe tbody tr th {\n",
       "        vertical-align: top;\n",
       "    }\n",
       "\n",
       "    .dataframe thead th {\n",
       "        text-align: right;\n",
       "    }\n",
       "</style>\n",
       "<table border=\"1\" class=\"dataframe\">\n",
       "  <thead>\n",
       "    <tr style=\"text-align: right;\">\n",
       "      <th></th>\n",
       "      <th>Country</th>\n",
       "      <th>Year</th>\n",
       "      <th>GDP_Per_Capita</th>\n",
       "    </tr>\n",
       "  </thead>\n",
       "  <tbody>\n",
       "    <tr>\n",
       "      <th>4426</th>\n",
       "      <td>Luxembourg</td>\n",
       "      <td>2020</td>\n",
       "      <td>128256.560341</td>\n",
       "    </tr>\n",
       "  </tbody>\n",
       "</table>\n",
       "</div>"
      ],
      "text/plain": [
       "         Country  Year  GDP_Per_Capita\n",
       "4426  Luxembourg  2020   128256.560341"
      ]
     },
     "execution_count": 42,
     "metadata": {},
     "output_type": "execute_result"
    }
   ],
   "source": [
    "gdp_df[gdp_df['GDP_Per_Capita'] == 128256.5603407562]"
   ]
  },
  {
   "cell_type": "code",
   "execution_count": 43,
   "id": "f584498a-3d61-4431-8291-3b1ccb6fc356",
   "metadata": {},
   "outputs": [],
   "source": [
    "## Luxembourg "
   ]
  },
  {
   "cell_type": "code",
   "execution_count": 44,
   "id": "4bf8bbb4-e75d-4a1b-9f36-31eba0a7538c",
   "metadata": {},
   "outputs": [
    {
     "name": "stdout",
     "output_type": "stream",
     "text": [
      "         Country  Year  GDP_Per_Capita\n",
      "4423  Luxembourg  2023   130373.477942\n",
      "4424  Luxembourg  2022   134507.667531\n",
      "4425  Luxembourg  2021   135379.291201\n",
      "4426  Luxembourg  2020   128256.560341\n",
      "4427  Luxembourg  2019   131609.099616\n"
     ]
    }
   ],
   "source": [
    "luxembourg = gdp_df[gdp_df['Country'] == 'Luxembourg']\n",
    "print(luxembourg.head())"
   ]
  },
  {
   "cell_type": "code",
   "execution_count": 45,
   "id": "224ae933-f761-4514-b59d-061f429d001c",
   "metadata": {},
   "outputs": [
    {
     "data": {
      "image/png": "[encoded data removed]",
      "text/plain": [
       "<Figure size 640x480 with 1 Axes>"
      ]
     },
     "metadata": {},
     "output_type": "display_data"
    }
   ],
   "source": [
    "luxembourg.plot(x='Year',\n",
    "                y='GDP_Per_Capita',\n",
    "                kind='line')\n",
    "plt.show()"
   ]
  },
  {
   "cell_type": "markdown",
   "id": "b1561c99-29a7-49d6-ad05-fbea8d71c13f",
   "metadata": {},
   "source": [
    "13. Which country had the lowest GDP per capita in 2020? Create a plot showing how this country's GDP per capita has changed over the timespan of the dataset. **Bonus question:** Is it true in general that coutries had a higher GDP per capita in 2020 than in 1990? Which countries had lower GDP per capita in 2020 than in 1990?"
   ]
  },
  {
   "cell_type": "code",
   "execution_count": 47,
   "id": "e242e708-c732-42c4-8f7b-bd72ad96ac2d",
   "metadata": {},
   "outputs": [
    {
     "data": {
      "text/plain": [
       "833.9202574580189"
      ]
     },
     "execution_count": 47,
     "metadata": {},
     "output_type": "execute_result"
    }
   ],
   "source": [
    "gdp_df[gdp_df['Year']==2020]['GDP_Per_Capita'].min()"
   ]
  },
  {
   "cell_type": "code",
   "execution_count": 48,
   "id": "18106d96-94ee-4def-92b0-bf195d68f9e5",
   "metadata": {},
   "outputs": [
    {
     "data": {
      "text/html": [
       "<div>\n",
       "<style scoped>\n",
       "    .dataframe tbody tr th:only-of-type {\n",
       "        vertical-align: middle;\n",
       "    }\n",
       "\n",
       "    .dataframe tbody tr th {\n",
       "        vertical-align: top;\n",
       "    }\n",
       "\n",
       "    .dataframe thead th {\n",
       "        text-align: right;\n",
       "    }\n",
       "</style>\n",
       "<table border=\"1\" class=\"dataframe\">\n",
       "  <thead>\n",
       "    <tr style=\"text-align: right;\">\n",
       "      <th></th>\n",
       "      <th>Country</th>\n",
       "      <th>Year</th>\n",
       "      <th>GDP_Per_Capita</th>\n",
       "    </tr>\n",
       "  </thead>\n",
       "  <tbody>\n",
       "    <tr>\n",
       "      <th>1046</th>\n",
       "      <td>Burundi</td>\n",
       "      <td>2020</td>\n",
       "      <td>833.920257</td>\n",
       "    </tr>\n",
       "  </tbody>\n",
       "</table>\n",
       "</div>"
      ],
      "text/plain": [
       "      Country  Year  GDP_Per_Capita\n",
       "1046  Burundi  2020      833.920257"
      ]
     },
     "execution_count": 48,
     "metadata": {},
     "output_type": "execute_result"
    }
   ],
   "source": [
    "gdp_df[gdp_df['GDP_Per_Capita'] == 833.9202574580189]"
   ]
  },
  {
   "cell_type": "code",
   "execution_count": 49,
   "id": "fd7ccf25-8f7b-41c9-a371-fcf902fc5f56",
   "metadata": {},
   "outputs": [
    {
     "name": "stdout",
     "output_type": "stream",
     "text": [
      "      Country  Year  GDP_Per_Capita\n",
      "1043  Burundi  2023      828.861074\n",
      "1044  Burundi  2022      829.387160\n",
      "1045  Burundi  2021      836.665571\n",
      "1046  Burundi  2020      833.920257\n",
      "1047  Burundi  2019      855.732720\n"
     ]
    }
   ],
   "source": [
    "burundi = gdp_df[gdp_df['Country'] == 'Burundi']\n",
    "print(burundi.head())"
   ]
  },
  {
   "cell_type": "code",
   "execution_count": 50,
   "id": "c5bdb32c-94ad-45ad-b4a8-9e1c029eed92",
   "metadata": {},
   "outputs": [
    {
     "data": {
      "image/png": "[encoded data removed]",
      "text/plain": [
       "<Figure size 640x480 with 1 Axes>"
      ]
     },
     "metadata": {},
     "output_type": "display_data"
    }
   ],
   "source": [
    "burundi.plot(x='Year',\n",
    "                y='GDP_Per_Capita',\n",
    "                kind='line')\n",
    "plt.show()"
   ]
  },
  {
   "cell_type": "markdown",
   "id": "87e432da-b59d-41ad-82d1-7c4118d2a3a0",
   "metadata": {},
   "source": [
    "14. Read in the internet use dataset into a DataFrame named `internet_df`. You will likely get errors when doing this. Check the arguments for the read_csv function to find ones that can help correct the errors (https://pandas.pydata.org/docs/reference/api/pandas.read_csv.html) Once you are able to read it in, take per a look at the top and bottom few rows to make sure that it has been read in correctly. Also, check the datatypes of the columns."
   ]
  },
  {
   "cell_type": "code",
   "execution_count": 114,
   "id": "34b2425e-2ec4-4d73-8a87-4ad9ecb11084",
   "metadata": {},
   "outputs": [
    {
     "data": {
      "text/html": [
       "<div>\n",
       "<style scoped>\n",
       "    .dataframe tbody tr th:only-of-type {\n",
       "        vertical-align: middle;\n",
       "    }\n",
       "\n",
       "    .dataframe tbody tr th {\n",
       "        vertical-align: top;\n",
       "    }\n",
       "\n",
       "    .dataframe thead th {\n",
       "        text-align: right;\n",
       "    }\n",
       "</style>\n",
       "<table border=\"1\" class=\"dataframe\">\n",
       "  <thead>\n",
       "    <tr style=\"text-align: right;\">\n",
       "      <th></th>\n",
       "      <th>Country or Area</th>\n",
       "      <th>Year</th>\n",
       "      <th>Value</th>\n",
       "      <th>Value Footnotes</th>\n",
       "    </tr>\n",
       "  </thead>\n",
       "  <tbody>\n",
       "    <tr>\n",
       "      <th>0</th>\n",
       "      <td>Afghanistan</td>\n",
       "      <td>2019</td>\n",
       "      <td>17.60</td>\n",
       "      <td>1</td>\n",
       "    </tr>\n",
       "    <tr>\n",
       "      <th>1</th>\n",
       "      <td>Afghanistan</td>\n",
       "      <td>2018</td>\n",
       "      <td>16.80</td>\n",
       "      <td>2</td>\n",
       "    </tr>\n",
       "    <tr>\n",
       "      <th>2</th>\n",
       "      <td>Afghanistan</td>\n",
       "      <td>2017</td>\n",
       "      <td>13.50</td>\n",
       "      <td>3</td>\n",
       "    </tr>\n",
       "    <tr>\n",
       "      <th>3</th>\n",
       "      <td>Afghanistan</td>\n",
       "      <td>2016</td>\n",
       "      <td>11.00</td>\n",
       "      <td>4</td>\n",
       "    </tr>\n",
       "    <tr>\n",
       "      <th>4</th>\n",
       "      <td>Afghanistan</td>\n",
       "      <td>2015</td>\n",
       "      <td>8.26</td>\n",
       "      <td>4</td>\n",
       "    </tr>\n",
       "  </tbody>\n",
       "</table>\n",
       "</div>"
      ],
      "text/plain": [
       "  Country or Area  Year  Value Value Footnotes\n",
       "0     Afghanistan  2019  17.60               1\n",
       "1     Afghanistan  2018  16.80               2\n",
       "2     Afghanistan  2017  13.50               3\n",
       "3     Afghanistan  2016  11.00               4\n",
       "4     Afghanistan  2015   8.26               4"
      ]
     },
     "execution_count": 114,
     "metadata": {},
     "output_type": "execute_result"
    }
   ],
   "source": [
    "internet_df = pd.read_csv('../data/internet_use.csv', on_bad_lines='skip', skipfooter=297, engine='python')\n",
    "internet_df.head()"
   ]
  },
  {
   "cell_type": "code",
   "execution_count": 116,
   "id": "0fe27202-2cd8-4b2f-9fe2-781481f56e22",
   "metadata": {},
   "outputs": [
    {
     "data": {
      "text/html": [
       "<div>\n",
       "<style scoped>\n",
       "    .dataframe tbody tr th:only-of-type {\n",
       "        vertical-align: middle;\n",
       "    }\n",
       "\n",
       "    .dataframe tbody tr th {\n",
       "        vertical-align: top;\n",
       "    }\n",
       "\n",
       "    .dataframe thead th {\n",
       "        text-align: right;\n",
       "    }\n",
       "</style>\n",
       "<table border=\"1\" class=\"dataframe\">\n",
       "  <thead>\n",
       "    <tr style=\"text-align: right;\">\n",
       "      <th></th>\n",
       "      <th>Country or Area</th>\n",
       "      <th>Year</th>\n",
       "      <th>Value</th>\n",
       "      <th>Value Footnotes</th>\n",
       "    </tr>\n",
       "  </thead>\n",
       "  <tbody>\n",
       "    <tr>\n",
       "      <th>6078</th>\n",
       "      <td>Zimbabwe</td>\n",
       "      <td>1997</td>\n",
       "      <td>0.033080</td>\n",
       "      <td>NaN</td>\n",
       "    </tr>\n",
       "    <tr>\n",
       "      <th>6079</th>\n",
       "      <td>Zimbabwe</td>\n",
       "      <td>1996</td>\n",
       "      <td>0.016790</td>\n",
       "      <td>NaN</td>\n",
       "    </tr>\n",
       "    <tr>\n",
       "      <th>6080</th>\n",
       "      <td>Zimbabwe</td>\n",
       "      <td>1995</td>\n",
       "      <td>0.007684</td>\n",
       "      <td>NaN</td>\n",
       "    </tr>\n",
       "    <tr>\n",
       "      <th>6081</th>\n",
       "      <td>Zimbabwe</td>\n",
       "      <td>1994</td>\n",
       "      <td>0.001739</td>\n",
       "      <td>NaN</td>\n",
       "    </tr>\n",
       "    <tr>\n",
       "      <th>6082</th>\n",
       "      <td>Zimbabwe</td>\n",
       "      <td>1990</td>\n",
       "      <td>0.000000</td>\n",
       "      <td>NaN</td>\n",
       "    </tr>\n",
       "  </tbody>\n",
       "</table>\n",
       "</div>"
      ],
      "text/plain": [
       "     Country or Area  Year     Value Value Footnotes\n",
       "6078        Zimbabwe  1997  0.033080             NaN\n",
       "6079        Zimbabwe  1996  0.016790             NaN\n",
       "6080        Zimbabwe  1995  0.007684             NaN\n",
       "6081        Zimbabwe  1994  0.001739             NaN\n",
       "6082        Zimbabwe  1990  0.000000             NaN"
      ]
     },
     "execution_count": 116,
     "metadata": {},
     "output_type": "execute_result"
    }
   ],
   "source": [
    "internet_df.tail()"
   ]
  },
  {
   "cell_type": "code",
   "execution_count": 120,
   "id": "aaaffd07-9110-4591-ad9b-f58bca83f8fc",
   "metadata": {},
   "outputs": [
    {
     "name": "stdout",
     "output_type": "stream",
     "text": [
      "<class 'pandas.core.frame.DataFrame'>\n",
      "RangeIndex: 6083 entries, 0 to 6082\n",
      "Data columns (total 4 columns):\n",
      " #   Column           Non-Null Count  Dtype  \n",
      "---  ------           --------------  -----  \n",
      " 0   Country or Area  6083 non-null   object \n",
      " 1   Year             6083 non-null   int64  \n",
      " 2   Value            6083 non-null   float64\n",
      " 3   Value Footnotes  2826 non-null   object \n",
      "dtypes: float64(1), int64(1), object(2)\n",
      "memory usage: 190.2+ KB\n"
     ]
    }
   ],
   "source": [
    "internet_df.info()"
   ]
  },
  {
   "cell_type": "markdown",
   "id": "5544c631-b86b-4af4-8c03-53da274553fb",
   "metadata": {},
   "source": [
    "15. Drop the `Value Footnotes` column and rename the remaining three to 'Country', 'Year', and 'Internet_Users_Pct'.\n"
   ]
  },
  {
   "cell_type": "code",
   "execution_count": 122,
   "id": "d3cd5f02-e184-41ec-a44c-963f7561d796",
   "metadata": {},
   "outputs": [],
   "source": [
    "internet_df.drop('Value Footnotes',axis=1, inplace=True)"
   ]
  },
  {
   "cell_type": "code",
   "execution_count": 124,
   "id": "1e08b871-4a56-420a-b143-54b39f10406e",
   "metadata": {},
   "outputs": [
    {
     "data": {
      "text/html": [
       "<div>\n",
       "<style scoped>\n",
       "    .dataframe tbody tr th:only-of-type {\n",
       "        vertical-align: middle;\n",
       "    }\n",
       "\n",
       "    .dataframe tbody tr th {\n",
       "        vertical-align: top;\n",
       "    }\n",
       "\n",
       "    .dataframe thead th {\n",
       "        text-align: right;\n",
       "    }\n",
       "</style>\n",
       "<table border=\"1\" class=\"dataframe\">\n",
       "  <thead>\n",
       "    <tr style=\"text-align: right;\">\n",
       "      <th></th>\n",
       "      <th>Country</th>\n",
       "      <th>Year</th>\n",
       "      <th>Internet_Users_Pct</th>\n",
       "    </tr>\n",
       "  </thead>\n",
       "  <tbody>\n",
       "    <tr>\n",
       "      <th>0</th>\n",
       "      <td>Afghanistan</td>\n",
       "      <td>2019</td>\n",
       "      <td>17.60</td>\n",
       "    </tr>\n",
       "    <tr>\n",
       "      <th>1</th>\n",
       "      <td>Afghanistan</td>\n",
       "      <td>2018</td>\n",
       "      <td>16.80</td>\n",
       "    </tr>\n",
       "    <tr>\n",
       "      <th>2</th>\n",
       "      <td>Afghanistan</td>\n",
       "      <td>2017</td>\n",
       "      <td>13.50</td>\n",
       "    </tr>\n",
       "    <tr>\n",
       "      <th>3</th>\n",
       "      <td>Afghanistan</td>\n",
       "      <td>2016</td>\n",
       "      <td>11.00</td>\n",
       "    </tr>\n",
       "    <tr>\n",
       "      <th>4</th>\n",
       "      <td>Afghanistan</td>\n",
       "      <td>2015</td>\n",
       "      <td>8.26</td>\n",
       "    </tr>\n",
       "  </tbody>\n",
       "</table>\n",
       "</div>"
      ],
      "text/plain": [
       "       Country  Year  Internet_Users_Pct\n",
       "0  Afghanistan  2019               17.60\n",
       "1  Afghanistan  2018               16.80\n",
       "2  Afghanistan  2017               13.50\n",
       "3  Afghanistan  2016               11.00\n",
       "4  Afghanistan  2015                8.26"
      ]
     },
     "execution_count": 124,
     "metadata": {},
     "output_type": "execute_result"
    }
   ],
   "source": [
    "internet_df=internet_df.rename(columns={'Country or Area': 'Country', 'Year': 'Year', 'Value': 'Internet_Users_Pct'})\n",
    "internet_df.head()"
   ]
  },
  {
   "cell_type": "markdown",
   "id": "b30d19ff-8b68-4fa0-afaa-037d175b0178",
   "metadata": {},
   "source": [
    "16. Look at the number of observations in this dataset per year. What do you notice?"
   ]
  },
  {
   "cell_type": "code",
   "execution_count": 132,
   "id": "f4e6c156-d3c1-4ff7-ad83-cf2e8895017b",
   "metadata": {},
   "outputs": [
    {
     "name": "stdout",
     "output_type": "stream",
     "text": [
      "Year\n",
      "1990    226\n",
      "1991     39\n",
      "1992     50\n",
      "1993     66\n",
      "1994     92\n",
      "1995    141\n",
      "1996    177\n",
      "1997    188\n",
      "1998    195\n",
      "1999    207\n",
      "2000    210\n",
      "2001    212\n",
      "2002    214\n",
      "2003    208\n",
      "2004    210\n",
      "2005    212\n",
      "2006    212\n",
      "2007    217\n",
      "2008    214\n",
      "2009    214\n",
      "2010    209\n",
      "2011    214\n",
      "2012    209\n",
      "2013    203\n",
      "2014    204\n",
      "2015    203\n",
      "2016    206\n",
      "2017    205\n",
      "2018    174\n",
      "2019    185\n",
      "2020    186\n",
      "2021    186\n",
      "2022    184\n",
      "2023     11\n",
      "Name: Country, dtype: int64\n"
     ]
    }
   ],
   "source": [
    "group = internet_df.groupby(['Year'])['Country'].count()\n",
    "print(group)"
   ]
  },
  {
   "cell_type": "code",
   "execution_count": 134,
   "id": "efd4396d-147a-42fe-8134-d254c2668868",
   "metadata": {},
   "outputs": [],
   "source": [
    "## The early 90's seem to be missing some data..."
   ]
  },
  {
   "cell_type": "markdown",
   "id": "de94c303-f9b4-47d1-9a84-87bac87b5351",
   "metadata": {},
   "source": [
    "17. What is the first year to have a non-zero internet users percentage value?"
   ]
  },
  {
   "cell_type": "code",
   "execution_count": 161,
   "id": "4befa223-56e4-4cd7-9a3c-52fc1a69b2ea",
   "metadata": {},
   "outputs": [],
   "source": [
    "filtered_internet_df = internet_df.query('Internet_Users_Pct > 0')"
   ]
  },
  {
   "cell_type": "code",
   "execution_count": 163,
   "id": "3c5acf1f-9bee-495d-aecd-ba2ed144594b",
   "metadata": {},
   "outputs": [
    {
     "data": {
      "text/plain": [
       "Year\n",
       "1990     0.001007\n",
       "1991     0.000052\n",
       "1992     0.000111\n",
       "1993     0.000169\n",
       "1994     0.000138\n",
       "1995     0.000018\n",
       "1996     0.000108\n",
       "1997     0.000211\n",
       "1998     0.000413\n",
       "1999     0.000152\n",
       "2000     0.005902\n",
       "2001     0.000289\n",
       "2002     0.000426\n",
       "2003     0.024064\n",
       "2004     0.024337\n",
       "2005     0.065239\n",
       "2006     0.182048\n",
       "2007     0.217128\n",
       "2008     0.220000\n",
       "2009     0.220000\n",
       "2010     0.250000\n",
       "2011     0.700000\n",
       "2012     0.800000\n",
       "2013     0.900000\n",
       "2014     0.990000\n",
       "2015     1.083730\n",
       "2016     1.177120\n",
       "2017     2.004050\n",
       "2018     4.000000\n",
       "2019     6.100000\n",
       "2020     7.400000\n",
       "2021     9.642410\n",
       "2022    11.275000\n",
       "2023    44.502700\n",
       "Name: Internet_Users_Pct, dtype: float64"
      ]
     },
     "execution_count": 163,
     "metadata": {},
     "output_type": "execute_result"
    }
   ],
   "source": [
    "filtered_internet_df.groupby(['Year'])['Internet_Users_Pct'].min()"
   ]
  },
  {
   "cell_type": "code",
   "execution_count": 165,
   "id": "b922fdeb-8b33-4388-840f-b7b4d1448ef1",
   "metadata": {},
   "outputs": [],
   "source": [
    "## 2015"
   ]
  },
  {
   "cell_type": "markdown",
   "id": "4f999444-1639-4efe-84f6-b596fbc1619c",
   "metadata": {},
   "source": [
    "18. How does the distribution of internet users percent differ for 2000 and 2014?"
   ]
  },
  {
   "cell_type": "code",
   "execution_count": 183,
   "id": "1e135c2f-eac7-4778-9a8d-1fdd123b076c",
   "metadata": {},
   "outputs": [
    {
     "data": {
      "text/html": [
       "<div>\n",
       "<style scoped>\n",
       "    .dataframe tbody tr th:only-of-type {\n",
       "        vertical-align: middle;\n",
       "    }\n",
       "\n",
       "    .dataframe tbody tr th {\n",
       "        vertical-align: top;\n",
       "    }\n",
       "\n",
       "    .dataframe thead th {\n",
       "        text-align: right;\n",
       "    }\n",
       "</style>\n",
       "<table border=\"1\" class=\"dataframe\">\n",
       "  <thead>\n",
       "    <tr style=\"text-align: right;\">\n",
       "      <th></th>\n",
       "      <th>Country</th>\n",
       "      <th>Year</th>\n",
       "      <th>Internet_Users_Pct</th>\n",
       "    </tr>\n",
       "  </thead>\n",
       "  <tbody>\n",
       "    <tr>\n",
       "      <th>42</th>\n",
       "      <td>Albania</td>\n",
       "      <td>2000</td>\n",
       "      <td>0.114097</td>\n",
       "    </tr>\n",
       "    <tr>\n",
       "      <th>71</th>\n",
       "      <td>Algeria</td>\n",
       "      <td>2000</td>\n",
       "      <td>0.491706</td>\n",
       "    </tr>\n",
       "    <tr>\n",
       "      <th>100</th>\n",
       "      <td>Andorra</td>\n",
       "      <td>2000</td>\n",
       "      <td>10.538800</td>\n",
       "    </tr>\n",
       "    <tr>\n",
       "      <th>128</th>\n",
       "      <td>Angola</td>\n",
       "      <td>2000</td>\n",
       "      <td>0.105046</td>\n",
       "    </tr>\n",
       "    <tr>\n",
       "      <th>150</th>\n",
       "      <td>Anguilla</td>\n",
       "      <td>2000</td>\n",
       "      <td>22.405400</td>\n",
       "    </tr>\n",
       "  </tbody>\n",
       "</table>\n",
       "</div>"
      ],
      "text/plain": [
       "      Country  Year  Internet_Users_Pct\n",
       "42    Albania  2000            0.114097\n",
       "71    Algeria  2000            0.491706\n",
       "100   Andorra  2000           10.538800\n",
       "128    Angola  2000            0.105046\n",
       "150  Anguilla  2000           22.405400"
      ]
     },
     "execution_count": 183,
     "metadata": {},
     "output_type": "execute_result"
    }
   ],
   "source": [
    "internet_2000_df = internet_df[internet_df['Year'] == 2000]\n",
    "internet_2000_df.head()"
   ]
  },
  {
   "cell_type": "code",
   "execution_count": 185,
   "id": "bfe1eab7-ade6-47df-89db-4fd2831c6f2d",
   "metadata": {},
   "outputs": [
    {
     "data": {
      "text/html": [
       "<div>\n",
       "<style scoped>\n",
       "    .dataframe tbody tr th:only-of-type {\n",
       "        vertical-align: middle;\n",
       "    }\n",
       "\n",
       "    .dataframe tbody tr th {\n",
       "        vertical-align: top;\n",
       "    }\n",
       "\n",
       "    .dataframe thead th {\n",
       "        text-align: right;\n",
       "    }\n",
       "</style>\n",
       "<table border=\"1\" class=\"dataframe\">\n",
       "  <thead>\n",
       "    <tr style=\"text-align: right;\">\n",
       "      <th></th>\n",
       "      <th>Country</th>\n",
       "      <th>Year</th>\n",
       "      <th>Internet_Users_Pct</th>\n",
       "    </tr>\n",
       "  </thead>\n",
       "  <tbody>\n",
       "    <tr>\n",
       "      <th>5</th>\n",
       "      <td>Afghanistan</td>\n",
       "      <td>2014</td>\n",
       "      <td>7.0000</td>\n",
       "    </tr>\n",
       "    <tr>\n",
       "      <th>28</th>\n",
       "      <td>Albania</td>\n",
       "      <td>2014</td>\n",
       "      <td>54.3000</td>\n",
       "    </tr>\n",
       "    <tr>\n",
       "      <th>57</th>\n",
       "      <td>Algeria</td>\n",
       "      <td>2014</td>\n",
       "      <td>29.5000</td>\n",
       "    </tr>\n",
       "    <tr>\n",
       "      <th>87</th>\n",
       "      <td>Andorra</td>\n",
       "      <td>2014</td>\n",
       "      <td>86.1000</td>\n",
       "    </tr>\n",
       "    <tr>\n",
       "      <th>114</th>\n",
       "      <td>Angola</td>\n",
       "      <td>2014</td>\n",
       "      <td>21.3623</td>\n",
       "    </tr>\n",
       "  </tbody>\n",
       "</table>\n",
       "</div>"
      ],
      "text/plain": [
       "         Country  Year  Internet_Users_Pct\n",
       "5    Afghanistan  2014              7.0000\n",
       "28       Albania  2014             54.3000\n",
       "57       Algeria  2014             29.5000\n",
       "87       Andorra  2014             86.1000\n",
       "114       Angola  2014             21.3623"
      ]
     },
     "execution_count": 185,
     "metadata": {},
     "output_type": "execute_result"
    }
   ],
   "source": [
    "internet_2014_df = internet_df[internet_df['Year'] == 2014]\n",
    "internet_2014_df.head()"
   ]
  },
  {
   "cell_type": "code",
   "execution_count": 193,
   "id": "7740cf94-1d30-465a-9ec8-7e1ad7408860",
   "metadata": {},
   "outputs": [
    {
     "data": {
      "text/plain": [
       "<Axes: xlabel='Internet_Users_Pct', ylabel='Count'>"
      ]
     },
     "execution_count": 193,
     "metadata": {},
     "output_type": "execute_result"
    },
    {
     "data": {
      "image/png": "[encoded data removed]",
      "text/plain": [
       "<Figure size 640x480 with 1 Axes>"
      ]
     },
     "metadata": {},
     "output_type": "display_data"
    }
   ],
   "source": [
    "sns.histplot(data=internet_2000_df,\n",
    "             x='Internet_Users_Pct',\n",
    "            kde=True)"
   ]
  },
  {
   "cell_type": "code",
   "execution_count": 191,
   "id": "de05be11-e5e8-43dc-873f-2d1f4c4d4a0b",
   "metadata": {},
   "outputs": [
    {
     "data": {
      "text/plain": [
       "<Axes: xlabel='Internet_Users_Pct', ylabel='Count'>"
      ]
     },
     "execution_count": 191,
     "metadata": {},
     "output_type": "execute_result"
    },
    {
     "data": {
      "image/png": "[encoded data removed]",
      "text/plain": [
       "<Figure size 640x480 with 1 Axes>"
      ]
     },
     "metadata": {},
     "output_type": "display_data"
    }
   ],
   "source": [
    "sns.histplot(data=internet_2014_df,\n",
    "             x='Internet_Users_Pct',\n",
    "            kde=True)"
   ]
  },
  {
   "cell_type": "code",
   "execution_count": 195,
   "id": "0ce0bd9c-55a6-4db9-a374-211f649ad4d8",
   "metadata": {},
   "outputs": [],
   "source": [
    "## It was a lot more spread out in 2014 than it was in 2000"
   ]
  },
  {
   "cell_type": "markdown",
   "id": "19c0b6bf-8b36-462c-83bc-c9bcd7253bfb",
   "metadata": {},
   "source": [
    "19. For how many countries was the percentage of internet users below 5% in 2014?"
   ]
  },
  {
   "cell_type": "code",
   "execution_count": 198,
   "id": "33ad987b-294a-4a4a-ac20-dbc4bd44a49c",
   "metadata": {},
   "outputs": [
    {
     "data": {
      "text/html": [
       "<div>\n",
       "<style scoped>\n",
       "    .dataframe tbody tr th:only-of-type {\n",
       "        vertical-align: middle;\n",
       "    }\n",
       "\n",
       "    .dataframe tbody tr th {\n",
       "        vertical-align: top;\n",
       "    }\n",
       "\n",
       "    .dataframe thead th {\n",
       "        text-align: right;\n",
       "    }\n",
       "</style>\n",
       "<table border=\"1\" class=\"dataframe\">\n",
       "  <thead>\n",
       "    <tr style=\"text-align: right;\">\n",
       "      <th></th>\n",
       "      <th>Country</th>\n",
       "      <th>Year</th>\n",
       "      <th>Internet_Users_Pct</th>\n",
       "    </tr>\n",
       "  </thead>\n",
       "  <tbody>\n",
       "    <tr>\n",
       "      <th>9</th>\n",
       "      <td>Afghanistan</td>\n",
       "      <td>2010</td>\n",
       "      <td>4.00000</td>\n",
       "    </tr>\n",
       "    <tr>\n",
       "      <th>10</th>\n",
       "      <td>Afghanistan</td>\n",
       "      <td>2009</td>\n",
       "      <td>3.55000</td>\n",
       "    </tr>\n",
       "    <tr>\n",
       "      <th>11</th>\n",
       "      <td>Afghanistan</td>\n",
       "      <td>2008</td>\n",
       "      <td>1.84000</td>\n",
       "    </tr>\n",
       "    <tr>\n",
       "      <th>12</th>\n",
       "      <td>Afghanistan</td>\n",
       "      <td>2007</td>\n",
       "      <td>1.90000</td>\n",
       "    </tr>\n",
       "    <tr>\n",
       "      <th>13</th>\n",
       "      <td>Afghanistan</td>\n",
       "      <td>2006</td>\n",
       "      <td>2.10712</td>\n",
       "    </tr>\n",
       "  </tbody>\n",
       "</table>\n",
       "</div>"
      ],
      "text/plain": [
       "        Country  Year  Internet_Users_Pct\n",
       "9   Afghanistan  2010             4.00000\n",
       "10  Afghanistan  2009             3.55000\n",
       "11  Afghanistan  2008             1.84000\n",
       "12  Afghanistan  2007             1.90000\n",
       "13  Afghanistan  2006             2.10712"
      ]
     },
     "execution_count": 198,
     "metadata": {},
     "output_type": "execute_result"
    }
   ],
   "source": [
    "less_than_5_df = internet_df.query('Internet_Users_Pct < 5')\n",
    "less_than_5_df.head()"
   ]
  },
  {
   "cell_type": "code",
   "execution_count": 200,
   "id": "d5ae1489-0ca2-4fb2-9c57-53708b1ac24d",
   "metadata": {},
   "outputs": [
    {
     "name": "stdout",
     "output_type": "stream",
     "text": [
      "                               Country  Year  Internet_Users_Pct\n",
      "873                            Burundi  2014             1.04239\n",
      "1033          Central African Republic  2014             2.70000\n",
      "1061                              Chad  2014             2.90000\n",
      "1517  Democratic Republic of the Congo  2014             3.00000\n",
      "1782                           Eritrea  2014             0.99000\n",
      "2451                     Guinea-Bissau  2014             3.32000\n",
      "3364                        Madagascar  2014             3.70000\n",
      "4073                             Niger  2014             1.24868\n",
      "5055                           Somalia  2014             1.63000\n",
      "5116                       South Sudan  2014             2.60000\n"
     ]
    }
   ],
   "source": [
    "less_than_5_2014 = less_than_5_df[less_than_5_df['Year'] == 2014]\n",
    "print(less_than_5_2014)"
   ]
  },
  {
   "cell_type": "code",
   "execution_count": 202,
   "id": "2c233573-3d12-49d8-931d-5732cfbdee37",
   "metadata": {},
   "outputs": [],
   "source": [
    "## 10 Countries"
   ]
  },
  {
   "cell_type": "markdown",
   "id": "35685141-9378-432b-b325-d0a753f7da37",
   "metadata": {},
   "source": [
    "20. Merge the two DataFrames to one. Do this in a way that keeps **all rows** from each of the two DataFrames. Call the new DataFrame `gdp_and_internet_use`. Look at the first and last few rows to confirm that it merged correctly."
   ]
  },
  {
   "cell_type": "code",
   "execution_count": 213,
   "id": "54d0e287-7577-4b69-a51f-0893364139e0",
   "metadata": {},
   "outputs": [],
   "source": [
    "gdp_and_internet_use = pd.concat([gdp_df,internet_df], ignore_index=False)"
   ]
  },
  {
   "cell_type": "code",
   "execution_count": 215,
   "id": "8347019d-095b-4dcf-8768-7adebf8b34f2",
   "metadata": {},
   "outputs": [
    {
     "data": {
      "text/html": [
       "<div>\n",
       "<style scoped>\n",
       "    .dataframe tbody tr th:only-of-type {\n",
       "        vertical-align: middle;\n",
       "    }\n",
       "\n",
       "    .dataframe tbody tr th {\n",
       "        vertical-align: top;\n",
       "    }\n",
       "\n",
       "    .dataframe thead th {\n",
       "        text-align: right;\n",
       "    }\n",
       "</style>\n",
       "<table border=\"1\" class=\"dataframe\">\n",
       "  <thead>\n",
       "    <tr style=\"text-align: right;\">\n",
       "      <th></th>\n",
       "      <th>Country</th>\n",
       "      <th>Year</th>\n",
       "      <th>GDP_Per_Capita</th>\n",
       "      <th>Internet_Users_Pct</th>\n",
       "    </tr>\n",
       "  </thead>\n",
       "  <tbody>\n",
       "    <tr>\n",
       "      <th>0</th>\n",
       "      <td>Afghanistan</td>\n",
       "      <td>2023</td>\n",
       "      <td>1992.424394</td>\n",
       "      <td>NaN</td>\n",
       "    </tr>\n",
       "    <tr>\n",
       "      <th>1</th>\n",
       "      <td>Afghanistan</td>\n",
       "      <td>2022</td>\n",
       "      <td>1981.710168</td>\n",
       "      <td>NaN</td>\n",
       "    </tr>\n",
       "    <tr>\n",
       "      <th>2</th>\n",
       "      <td>Afghanistan</td>\n",
       "      <td>2021</td>\n",
       "      <td>2144.166570</td>\n",
       "      <td>NaN</td>\n",
       "    </tr>\n",
       "    <tr>\n",
       "      <th>3</th>\n",
       "      <td>Afghanistan</td>\n",
       "      <td>2020</td>\n",
       "      <td>2769.685745</td>\n",
       "      <td>NaN</td>\n",
       "    </tr>\n",
       "    <tr>\n",
       "      <th>4</th>\n",
       "      <td>Afghanistan</td>\n",
       "      <td>2019</td>\n",
       "      <td>2927.245144</td>\n",
       "      <td>NaN</td>\n",
       "    </tr>\n",
       "  </tbody>\n",
       "</table>\n",
       "</div>"
      ],
      "text/plain": [
       "       Country  Year  GDP_Per_Capita  Internet_Users_Pct\n",
       "0  Afghanistan  2023     1992.424394                 NaN\n",
       "1  Afghanistan  2022     1981.710168                 NaN\n",
       "2  Afghanistan  2021     2144.166570                 NaN\n",
       "3  Afghanistan  2020     2769.685745                 NaN\n",
       "4  Afghanistan  2019     2927.245144                 NaN"
      ]
     },
     "execution_count": 215,
     "metadata": {},
     "output_type": "execute_result"
    }
   ],
   "source": [
    "gdp_and_internet_use.head()"
   ]
  },
  {
   "cell_type": "code",
   "execution_count": 217,
   "id": "39d60c37-c4bb-4504-8e13-37157799d0cd",
   "metadata": {},
   "outputs": [
    {
     "data": {
      "text/html": [
       "<div>\n",
       "<style scoped>\n",
       "    .dataframe tbody tr th:only-of-type {\n",
       "        vertical-align: middle;\n",
       "    }\n",
       "\n",
       "    .dataframe tbody tr th {\n",
       "        vertical-align: top;\n",
       "    }\n",
       "\n",
       "    .dataframe thead th {\n",
       "        text-align: right;\n",
       "    }\n",
       "</style>\n",
       "<table border=\"1\" class=\"dataframe\">\n",
       "  <thead>\n",
       "    <tr style=\"text-align: right;\">\n",
       "      <th></th>\n",
       "      <th>Country</th>\n",
       "      <th>Year</th>\n",
       "      <th>GDP_Per_Capita</th>\n",
       "      <th>Internet_Users_Pct</th>\n",
       "    </tr>\n",
       "  </thead>\n",
       "  <tbody>\n",
       "    <tr>\n",
       "      <th>6078</th>\n",
       "      <td>Zimbabwe</td>\n",
       "      <td>1997</td>\n",
       "      <td>NaN</td>\n",
       "      <td>0.033080</td>\n",
       "    </tr>\n",
       "    <tr>\n",
       "      <th>6079</th>\n",
       "      <td>Zimbabwe</td>\n",
       "      <td>1996</td>\n",
       "      <td>NaN</td>\n",
       "      <td>0.016790</td>\n",
       "    </tr>\n",
       "    <tr>\n",
       "      <th>6080</th>\n",
       "      <td>Zimbabwe</td>\n",
       "      <td>1995</td>\n",
       "      <td>NaN</td>\n",
       "      <td>0.007684</td>\n",
       "    </tr>\n",
       "    <tr>\n",
       "      <th>6081</th>\n",
       "      <td>Zimbabwe</td>\n",
       "      <td>1994</td>\n",
       "      <td>NaN</td>\n",
       "      <td>0.001739</td>\n",
       "    </tr>\n",
       "    <tr>\n",
       "      <th>6082</th>\n",
       "      <td>Zimbabwe</td>\n",
       "      <td>1990</td>\n",
       "      <td>NaN</td>\n",
       "      <td>0.000000</td>\n",
       "    </tr>\n",
       "  </tbody>\n",
       "</table>\n",
       "</div>"
      ],
      "text/plain": [
       "       Country  Year  GDP_Per_Capita  Internet_Users_Pct\n",
       "6078  Zimbabwe  1997             NaN            0.033080\n",
       "6079  Zimbabwe  1996             NaN            0.016790\n",
       "6080  Zimbabwe  1995             NaN            0.007684\n",
       "6081  Zimbabwe  1994             NaN            0.001739\n",
       "6082  Zimbabwe  1990             NaN            0.000000"
      ]
     },
     "execution_count": 217,
     "metadata": {},
     "output_type": "execute_result"
    }
   ],
   "source": [
    "gdp_and_internet_use.tail()"
   ]
  },
  {
   "cell_type": "markdown",
   "id": "5e2dc447-ccdd-4bcc-a4f8-6a8e116e4cd4",
   "metadata": {},
   "source": [
    "21. Find the three countries with the highest internet users percentage in 2014. Use a seaborn FacetGrid (https://seaborn.pydata.org/generated/seaborn.FacetGrid.html) to compare how the GDP per capita has changed over time for these three countries. What do you notice?"
   ]
  },
  {
   "cell_type": "code",
   "execution_count": null,
   "id": "095fd9f9-102e-4493-b513-6e82d7867a51",
   "metadata": {},
   "outputs": [],
   "source": []
  }
 ],
 "metadata": {
  "kernelspec": {
   "display_name": "Python 3 (ipykernel)",
   "language": "python",
   "name": "python3"
  },
  "language_info": {
   "codemirror_mode": {
    "name": "ipython",
    "version": 3
   },
   "file_extension": ".py",
   "mimetype": "text/x-python",
   "name": "python",
   "nbconvert_exporter": "python",
   "pygments_lexer": "ipython3",
   "version": "3.12.7"
  }
 },
 "nbformat": 4,
 "nbformat_minor": 5
}
